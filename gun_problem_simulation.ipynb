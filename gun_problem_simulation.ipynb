{
  "nbformat": 4,
  "nbformat_minor": 0,
  "metadata": {
    "colab": {
      "provenance": [],
      "authorship_tag": "ABX9TyNdg8YLL4jxaKpw+namIe+M",
      "include_colab_link": true
    },
    "kernelspec": {
      "name": "python3",
      "display_name": "Python 3"
    },
    "language_info": {
      "name": "python"
    }
  },
  "cells": [
    {
      "cell_type": "markdown",
      "metadata": {
        "id": "view-in-github",
        "colab_type": "text"
      },
      "source": [
        "<a href=\"https://colab.research.google.com/github/denistoo749/Gun-Problem-Simulation/blob/main/gun_problem_simulation.ipynb\" target=\"_parent\"><img src=\"https://colab.research.google.com/assets/colab-badge.svg\" alt=\"Open In Colab\"/></a>"
      ]
    },
    {
      "cell_type": "markdown",
      "source": [
        "# Introduction:\n",
        "In this simulation problem, we will investigate the trajectory of a gun-fired bullet with an\n",
        "initial height of 1 metre from the ground. The gun used for firing is an A22 handgun, and the\n",
        "bullet's weight is 40 grains. The simulation will focus on finding the maximum height the\n",
        "bullet can reach at different firing angles ranging from 30 to 90 degrees. Additionally, we will\n",
        "also determine the probability that the bullet will fall and injure someone.\n",
        "\n",
        "# 1. problem statement formulation\n",
        "There are different types of handguns carrying specific weights.\n",
        "These guns fire at different velocities\n",
        "obtain:\n",
        "-the maximum distance the bullet will travel vertically and horizontally before reaching a\n",
        "dead point stop\n",
        "-the parameters should range between -pi and +pi\n",
        "-provide a graphical output\n",
        "- weight of the bullet -40 grains\n",
        "\n",
        "# 2. setting up objectives and overall project plan\n",
        "-To find solution to the gun problem\n",
        "-To get the maximum distance the bullet will travel before falling on the ground\n",
        "\n",
        "-To simulate the different velocities the bullet will travel at different angles before reaching a\n",
        "dead stop\n",
        "-To provide a graphical output for the different simulations\n",
        "-To obtain the probability that the bullet will hit and injure a person on the ground\n",
        "\n",
        "# 3. model conceptualization\n",
        "\n",
        "# 4. Data collection\n",
        "-Force due to gravity - 9.81m/s\n",
        "-initial height - 0m on the ground\n",
        "-Velocity of the gun-ranges(300 m/s to 450 m/s)\n",
        "-angle = -pi < Θ<pi\n",
        "- weight of the bullet will be assumed to be negligible\n",
        "- weight of the gun-\n",
        "\n",
        "- Type of gun-\n",
        "\n",
        "# 5. model translation\n",
        "\n",
        "coming up with the relevant equations and solving them:\n",
        "\n",
        "- initialHeight = 1\n",
        "- initialVelocity = 100\n",
        "- Angle_deg = [30, 45, 60, 75, 90]\n",
        "- Angle_rad = math.radians(angle_deg)\n",
        "- initialVerticalVelocity = initialVelocity * math.sin(angle_deg)\n",
        "- initialHorizontalVelocity = initialVelocity * math.cos(angle_deg)\n",
        "- timeOfFlight = (2*initialVerticalVelocity) / g\n",
        "- vertical & horizontal positions (y & x) are calculated equally spaced time point between 0 and the time of flight.\n",
        "- calculates max height reached by the bullet and bullet’s kinetic energy for each\n",
        "angle.\n",
        "\n",
        "The kinetic energy equation is:\n",
        "- kineticEnergy = (0.5 * bulletWeight_kg * initialVelocity .^ 2)"
      ],
      "metadata": {
        "id": "pEuhtczhbKpO"
      }
    },
    {
      "cell_type": "code",
      "execution_count": null,
      "metadata": {
        "id": "mmofxX0Pari0"
      },
      "outputs": [],
      "source": []
    }
  ]
}